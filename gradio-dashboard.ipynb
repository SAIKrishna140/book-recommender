{
 "cells": [
  {
   "metadata": {},
   "cell_type": "code",
   "outputs": [],
   "execution_count": null,
   "source": [
    "import numpy as np\n",
    "import pandas as pd\n",
    "from dotenv import load_dotenv\n",
    "from langchain_community.document_loaders import TextLoader\n",
    "from langchain_chroma import Chroma\n",
    "from langchain_text_splitters import CharacterTextSplitter\n",
    "from langchain_openai import OpenAIEmbeddings\n",
    "from langchain.schema import Document\n",
    "\n",
    "load_dotenv()\n",
    "\n",
    "books=pd.read_csv('books_with_emotions.csv')\n",
    "books[\"large thumbnail\"]=books[\"thumbnail\"]+\"&fife=w800\"\n",
    "books[\"large thumbnail\"]=np.where(\n",
    "    books[\"thumbnail\"].isna(),\"cover-not-found.jpg\",books[\"thumbnail\"]\n",
    ")"
   ],
   "id": "f4c9c05da06c54f3"
  },
  {
   "metadata": {},
   "cell_type": "code",
   "outputs": [],
   "execution_count": null,
   "source": [
    "with open(\"tagged_descriptions.txt\", \"r\", encoding=\"utf-8\") as f:\n",
    "    text = f.read()\n",
    "\n",
    "raw_documents = [Document(page_content=text)]\n",
    "text_splitter=CharacterTextSplitter(chunk_size=0,chunk_overlap=0,separator=\"\\n\")\n",
    "documents=text_splitter.split_documents(raw_documents)\n",
    "db_books=Chroma.from_documents(documents, embedding=OpenAIEmbeddings())"
   ],
   "id": "46f67c6860a6681c"
  }
 ],
 "metadata": {
  "kernelspec": {
   "display_name": "Python 3",
   "language": "python",
   "name": "python3"
  },
  "language_info": {
   "codemirror_mode": {
    "name": "ipython",
    "version": 2
   },
   "file_extension": ".py",
   "mimetype": "text/x-python",
   "name": "python",
   "nbconvert_exporter": "python",
   "pygments_lexer": "ipython2",
   "version": "2.7.6"
  }
 },
 "nbformat": 4,
 "nbformat_minor": 5
}
